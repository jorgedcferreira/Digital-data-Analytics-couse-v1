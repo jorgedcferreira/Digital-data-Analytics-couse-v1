{
 "cells": [
  {
   "cell_type": "markdown",
   "metadata": {},
   "source": [
    "# List of Common Machine Learning Algorithms\n",
    "\n",
    "Here is the list of commonly used machine learning algorithms. These algorithms can be applied to almost any data problem:\n",
    "\n",
    "* Linear Regression\n",
    "* Logistic Regression\n",
    "* Decision Tree\n",
    "* SVM\n",
    "* Naive Bayes\n",
    "* kNN\n",
    "* K-Means\n",
    "* Random Forest\n",
    "* Dimensionality Reduction Algorithms\n",
    "* Gradient Boosting algorithms\n",
    "* GBM\n",
    "* XGBoost\n",
    "* LightGBM\n",
    "* CatBoost"
   ]
  },
  {
   "attachments": {
    "image.png": {
     "image/png": "[encoded data removed]"
    }
   },
   "cell_type": "markdown",
   "metadata": {},
   "source": [
    "# Linear Regression\n",
    "\n",
    "It is used to estimate real values (cost of houses, number of calls, total sales etc.) based on continuous variable(s). Here, we establish relationship between independent and dependent variables by fitting a best line. This best fit line is known as regression line and represented by a linear equation Y= a *X + b.\n",
    "\n",
    "The best way to understand linear regression is to relive this experience of childhood. Let us say, you ask a child in fifth grade to arrange people in his class by increasing order of weight, without asking them their weights! What do you think the child will do? He / she would likely look (visually analyze) at the height and build of people and arrange them using a combination of these visible parameters. This is linear regression in real life! The child has actually figured out that height and build would be correlated to the weight by a relationship, which looks like the equation above.\n",
    "\n",
    "In this equation:\n",
    "* Y – Dependent Variable\n",
    "* a – Slope\n",
    "* X – Independent variable\n",
    "* b – Intercept\n",
    "\n",
    "![image.png](attachment:image.png)\n",
    "\n",
    "Linear Regression is of mainly two types: Simple Linear Regression and Multiple Linear Regression. Simple Linear Regression is characterized by one independent variable. And, Multiple Linear Regression(as the name suggests) is characterized by multiple (more than 1) independent variables. While finding best fit line, you can fit a polynomial or curvilinear regression. And these are known as polynomial or curvilinear regression."
   ]
  },
  {
   "cell_type": "code",
   "execution_count": 96,
   "metadata": {
    "scrolled": true
   },
   "outputs": [
    {
     "name": "stdout",
     "output_type": "stream",
     "text": [
      "   Ozone  Solar.R  Wind  Temp  Month  Day\n",
      "0   41.0    190.0   7.4    67      5    1\n",
      "1   36.0    118.0   8.0    72      5    2\n",
      "2   12.0    149.0  12.6    74      5    3\n",
      "3   18.0    313.0  11.5    62      5    4\n",
      "4    NaN      NaN  14.3    56      5    5\n",
      "Coefficient: \n",
      " [ 0.05790517 -3.13945801  1.1513679  -1.22999843  0.12200915]\n",
      "Intercept: \n",
      " -19.442921359136086\n",
      "14.126180283269726\n"
     ]
    }
   ],
   "source": [
    "#Import Library\n",
    "#Import other necessary libraries like pandas, numpy...\n",
    "from sklearn import linear_model\n",
    "import pandas as pd\n",
    "import numpy as np\n",
    "import math\n",
    "import sklearn.metrics as metrics\n",
    "\n",
    "#Load Train and Test datasets\n",
    "data=pd.read_csv('./data/ozone.csv')\n",
    "print(data.head())\n",
    "\n",
    "#drop rows with na\n",
    "#data = data.dropna(axis=0, how='any') #how='all'\n",
    "\n",
    "#Data fill NaN with average\n",
    "for column in data:\n",
    "    average = data[column].mean()\n",
    "    median = data[column].median()\n",
    "    data  = data.fillna(average)\n",
    "\n",
    "\n",
    "#Shuffle\n",
    "data = data.sample(frac=1)\n",
    "data_shape = data.shape\n",
    "data_rows = data_shape[0]\n",
    "partition_value = 0.7\n",
    "\n",
    "train_data = data.head(math.ceil(data_rows*partition_value))\n",
    "test_data = data.tail(math.trunc(data_rows*(1-partition_value)))\n",
    "#print(train_data)\n",
    "#print(test_data)\n",
    "\n",
    "x_train = train_data.drop(['Ozone'], axis=1)\n",
    "y_train = train_data['Ozone']\n",
    "\n",
    "x_test = test_data.drop(['Ozone'], axis=1)\n",
    "y_test = test_data['Ozone']\n",
    "\n",
    "\n",
    "linear = linear_model.LinearRegression()\n",
    "\n",
    "\n",
    "\n",
    "\n",
    "# Train the model using the training sets and check score\n",
    "linear.fit(x_train, y_train)\n",
    "linear.score(x_train, y_train)\n",
    "\n",
    "#Equation coefficient and Intercept\n",
    "print('Coefficient: \\n', linear.coef_)\n",
    "print('Intercept: \\n', linear.intercept_)\n",
    "\n",
    "#Predict Output\n",
    "predicted= linear.predict(x_test)\n",
    "\n",
    "mean_absolute_error = metrics.mean_absolute_error(y_test.tolist(),predicted)\n",
    "\n",
    "\n",
    "print(mean_absolute_error)"
   ]
  },
  {
   "cell_type": "code",
   "execution_count": null,
   "metadata": {},
   "outputs": [],
   "source": []
  }
 ],
 "metadata": {
  "kernelspec": {
   "display_name": "Python 3",
   "language": "python",
   "name": "python3"
  },
  "language_info": {
   "codemirror_mode": {
    "name": "ipython",
    "version": 3
   },
   "file_extension": ".py",
   "mimetype": "text/x-python",
   "name": "python",
   "nbconvert_exporter": "python",
   "pygments_lexer": "ipython3",
   "version": "3.6.5"
  }
 },
 "nbformat": 4,
 "nbformat_minor": 2
}
